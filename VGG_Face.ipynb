{
  "nbformat": 4,
  "nbformat_minor": 0,
  "metadata": {
    "colab": {
      "provenance": []
    },
    "kernelspec": {
      "name": "python3",
      "display_name": "Python 3"
    },
    "language_info": {
      "name": "python"
    }
  },
  "cells": [
    {
      "cell_type": "code",
      "execution_count": null,
      "metadata": {
        "id": "sQe2KgM0PeLc"
      },
      "outputs": [],
      "source": [
        "import numpy as np \n",
        "import pandas as pd\n",
        "import cv2\n",
        "import matplotlib.pyplot as plt \n",
        "from sklearn.datasets import fetch_lfw_people\n",
        "from keras.models import Sequential,Model\n",
        "from keras.layers import Conv2D,Dropout,Dense,MaxPooling2D,Flatten,Resizing,GlobalAveragePooling2D,BatchNormalization\n",
        "from sklearn.model_selection import train_test_split\n",
        "from keras.applications import ResNet50\n",
        "from keras.applications.resnet import ResNet50\n",
        "from keras.applications.resnet import preprocess_input\n",
        "from skimage.transform import resize\n",
        "from keras.utils import to_categorical\n",
        "import keras as k\n",
        "import tensorflow as tf"
      ]
    },
    {
      "cell_type": "code",
      "source": [
        "lfw = fetch_lfw_people(min_faces_per_person=50,resize=1,color=True)"
      ],
      "metadata": {
        "id": "_B8LKFFgPfIE"
      },
      "execution_count": null,
      "outputs": []
    },
    {
      "cell_type": "code",
      "source": [
        "X = lfw.images\n",
        "X.shape"
      ],
      "metadata": {
        "colab": {
          "base_uri": "https://localhost:8080/"
        },
        "id": "6hdchUC6PhPQ",
        "outputId": "c5067382-3cf3-4a7f-c913-d7ffb16d6dfe"
      },
      "execution_count": null,
      "outputs": [
        {
          "output_type": "execute_result",
          "data": {
            "text/plain": [
              "(1560, 125, 94, 3)"
            ]
          },
          "metadata": {},
          "execution_count": 18
        }
      ]
    },
    {
      "cell_type": "code",
      "source": [
        "y= lfw.target\n",
        "target_name=lfw.target_names\n",
        "print(len(target_name))\n",
        "print(y.shape)"
      ],
      "metadata": {
        "colab": {
          "base_uri": "https://localhost:8080/"
        },
        "id": "XDQKEE57Pi0I",
        "outputId": "5432d96e-8d31-4f7b-f750-53a931167018"
      },
      "execution_count": null,
      "outputs": [
        {
          "output_type": "stream",
          "name": "stdout",
          "text": [
            "12\n",
            "(1560,)\n"
          ]
        }
      ]
    },
    {
      "cell_type": "code",
      "source": [
        "x=preprocess_input(X)\n",
        "y=to_categorical(y)"
      ],
      "metadata": {
        "id": "aD8ttdvlPk0l"
      },
      "execution_count": null,
      "outputs": []
    },
    {
      "cell_type": "code",
      "source": [
        "x_train,x_test,y_train,y_test = train_test_split(x,y,test_size=0.25)"
      ],
      "metadata": {
        "id": "9P3XXoiwPnH3"
      },
      "execution_count": null,
      "outputs": []
    },
    {
      "cell_type": "code",
      "source": [
        "!pip install keras_vggface"
      ],
      "metadata": {
        "colab": {
          "base_uri": "https://localhost:8080/"
        },
        "id": "XhJFeBAhP_-1",
        "outputId": "b3a35554-1fbc-4408-e0d8-4bde6639db5b"
      },
      "execution_count": null,
      "outputs": [
        {
          "output_type": "stream",
          "name": "stdout",
          "text": [
            "Looking in indexes: https://pypi.org/simple, https://us-python.pkg.dev/colab-wheels/public/simple/\n",
            "Requirement already satisfied: keras_vggface in /usr/local/lib/python3.8/dist-packages (0.6)\n",
            "Requirement already satisfied: h5py in /usr/local/lib/python3.8/dist-packages (from keras_vggface) (3.1.0)\n",
            "Requirement already satisfied: numpy>=1.9.1 in /usr/local/lib/python3.8/dist-packages (from keras_vggface) (1.21.6)\n",
            "Requirement already satisfied: pyyaml in /usr/local/lib/python3.8/dist-packages (from keras_vggface) (6.0)\n",
            "Requirement already satisfied: pillow in /usr/local/lib/python3.8/dist-packages (from keras_vggface) (7.1.2)\n",
            "Requirement already satisfied: scipy>=0.14 in /usr/local/lib/python3.8/dist-packages (from keras_vggface) (1.7.3)\n",
            "Requirement already satisfied: six>=1.9.0 in /usr/local/lib/python3.8/dist-packages (from keras_vggface) (1.15.0)\n",
            "Requirement already satisfied: keras in /usr/local/lib/python3.8/dist-packages (from keras_vggface) (2.9.0)\n"
          ]
        }
      ]
    },
    {
      "cell_type": "code",
      "source": [
        "!pip install  keras_applications"
      ],
      "metadata": {
        "colab": {
          "base_uri": "https://localhost:8080/"
        },
        "id": "MMHdHqfJQIyi",
        "outputId": "7ca4a5d1-877d-4291-fdf2-1a372d5062e6"
      },
      "execution_count": null,
      "outputs": [
        {
          "output_type": "stream",
          "name": "stdout",
          "text": [
            "Looking in indexes: https://pypi.org/simple, https://us-python.pkg.dev/colab-wheels/public/simple/\n",
            "Requirement already satisfied: keras_applications in /usr/local/lib/python3.8/dist-packages (1.0.8)\n",
            "Requirement already satisfied: numpy>=1.9.1 in /usr/local/lib/python3.8/dist-packages (from keras_applications) (1.21.6)\n",
            "Requirement already satisfied: h5py in /usr/local/lib/python3.8/dist-packages (from keras_applications) (3.1.0)\n"
          ]
        }
      ]
    },
    {
      "cell_type": "code",
      "source": [
        "from keras_vggface.vggface import VGGFace"
      ],
      "metadata": {
        "id": "3KNdfjIrPpP2"
      },
      "execution_count": null,
      "outputs": []
    },
    {
      "cell_type": "code",
      "source": [
        "base_model = VGGFace(model='resnet50', include_top=False)\n",
        "base_model.trainable = False\n",
        "model = Sequential()\n",
        "model.add(Resizing(224, 224))\n",
        "model.add(base_model)\n",
        "model.add(Flatten())\n",
        "model.add(Dense(1024, activation='relu'))\n",
        "model.add(Dense(12, activation='softmax'))\n",
        "model.compile(optimizer='adam', loss='categorical_crossentropy', metrics=['accuracy'])"
      ],
      "metadata": {
        "id": "E-pdxx85P9hZ"
      },
      "execution_count": null,
      "outputs": []
    },
    {
      "cell_type": "code",
      "source": [
        "hist = model.fit(x_train, y_train, validation_data=(x_test, y_test), batch_size=10, epochs=5)"
      ],
      "metadata": {
        "colab": {
          "base_uri": "https://localhost:8080/"
        },
        "id": "Nq61HGbMRPqN",
        "outputId": "950e020c-ab9f-4bbd-8f8f-b706dd0ffcef"
      },
      "execution_count": null,
      "outputs": [
        {
          "output_type": "stream",
          "name": "stdout",
          "text": [
            "Epoch 1/5\n",
            "117/117 [==============================] - 168s 1s/step - loss: 0.2735 - accuracy: 0.9709 - val_loss: 0.0215 - val_accuracy: 0.9949\n",
            "Epoch 2/5\n",
            "117/117 [==============================] - 164s 1s/step - loss: 0.0807 - accuracy: 0.9940 - val_loss: 0.1989 - val_accuracy: 0.9769\n",
            "Epoch 3/5\n",
            "117/117 [==============================] - 165s 1s/step - loss: 0.0491 - accuracy: 0.9923 - val_loss: 0.0262 - val_accuracy: 0.9974\n",
            "Epoch 4/5\n",
            "117/117 [==============================] - 162s 1s/step - loss: 0.0322 - accuracy: 0.9983 - val_loss: 3.0566e-10 - val_accuracy: 1.0000\n",
            "Epoch 5/5\n",
            "117/117 [==============================] - 162s 1s/step - loss: 0.0000e+00 - accuracy: 1.0000 - val_loss: 3.0566e-10 - val_accuracy: 1.0000\n"
          ]
        }
      ]
    },
    {
      "cell_type": "code",
      "source": [
        "plt.plot(hist.history['accuracy'])\n",
        "plt.plot(hist.history['val_accuracy'])\n",
        "plt.ylabel('acc')\n",
        "plt.xlabel('epoch')\n",
        "plt.legend(['train', 'validation'], loc='lower right')\n",
        "plt.show()"
      ],
      "metadata": {
        "colab": {
          "base_uri": "https://localhost:8080/",
          "height": 279
        },
        "id": "trWjMV0HRbTJ",
        "outputId": "8359ba1f-6c35-4d0a-b824-d68cf260c7e4"
      },
      "execution_count": null,
      "outputs": [
        {
          "output_type": "display_data",
          "data": {
            "text/plain": [
              "<Figure size 432x288 with 1 Axes>"
            ],
            "image/png": "[encoded data removed]"
          },
          "metadata": {
            "needs_background": "light"
          }
        }
      ]
    },
    {
      "cell_type": "code",
      "source": [
        "y_predicted = model.predict(x_test)"
      ],
      "metadata": {
        "colab": {
          "base_uri": "https://localhost:8080/"
        },
        "id": "v8vqriWPWpyq",
        "outputId": "9ad26d38-7e4c-4464-f8e4-410dba4eec6c"
      },
      "execution_count": null,
      "outputs": [
        {
          "output_type": "stream",
          "name": "stdout",
          "text": [
            "13/13 [==============================] - 48s 3s/step\n"
          ]
        }
      ]
    },
    {
      "cell_type": "code",
      "source": [
        "y_predicted=y_predicted.argmax(axis=1)\n",
        "y_test=y_test.argmax(axis=1)"
      ],
      "metadata": {
        "id": "fPkd8kS8W4uL"
      },
      "execution_count": null,
      "outputs": []
    },
    {
      "cell_type": "code",
      "source": [
        "print(target_name[y_test[0]])\n",
        "print(target_name[y_predicted[0]])"
      ],
      "metadata": {
        "colab": {
          "base_uri": "https://localhost:8080/"
        },
        "id": "h6be8bBsW_gJ",
        "outputId": "92dd6a4d-94b7-4f73-ed87-d0c8f00d3763"
      },
      "execution_count": null,
      "outputs": [
        {
          "output_type": "stream",
          "name": "stdout",
          "text": [
            "Gerhard Schroeder\n",
            "Gerhard Schroeder\n"
          ]
        }
      ]
    },
    {
      "cell_type": "code",
      "source": [],
      "metadata": {
        "id": "Pc0JzRn9XR3I"
      },
      "execution_count": null,
      "outputs": []
    }
  ]
}